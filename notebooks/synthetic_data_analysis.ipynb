{
 "cells": [
  {
   "cell_type": "markdown",
   "id": "e4143ff3",
   "metadata": {},
   "source": [
    "Comparison of F1-score, Hamming distance, and ARI results across different methods (ClustRecNet, Silhouette, CH, DB, and Dunn CVIs) on the synthetic test data. For detailed explanation refer to Section 3.1 \"Experiments with Synthetic Data\" in the paper."
   ]
  },
  {
   "cell_type": "markdown",
   "id": "e4bc725f",
   "metadata": {},
   "source": [
    "### Imports"
   ]
  },
  {
   "cell_type": "code",
   "execution_count": 1,
   "id": "1121fa34",
   "metadata": {},
   "outputs": [],
   "source": [
    "import sys\n",
    "import os\n",
    "\n",
    "sys.path.append(os.path.abspath(os.path.join(os.getcwd(), '..')))"
   ]
  },
  {
   "cell_type": "code",
   "execution_count": null,
   "id": "8c803fae",
   "metadata": {},
   "outputs": [
    {
     "name": "stdout",
     "output_type": "stream",
     "text": [
      "Using device: cpu\n"
     ]
    }
   ],
   "source": [
    "import numpy as np\n",
    "from sklearn.metrics import f1_score, hamming_loss\n",
    "from src.clust_utils import pad_symmetric\n",
    "from tqdm import tqdm\n",
    "import torch\n",
    "from torch.utils.data import DataLoader, TensorDataset\n",
    "from src.training.models import CNNResNetAttention\n",
    "import pandas as pd\n",
    "import matplotlib.pyplot as plt\n",
    "from sklearn.model_selection import KFold\n",
    "\n",
    "\n",
    "device = torch.device(\"cuda\" if torch.cuda.is_available() else \"cpu\")\n",
    "print(f\"Using device: {device}\")"
   ]
  },
  {
   "cell_type": "code",
   "execution_count": 3,
   "id": "0cc01bc9",
   "metadata": {},
   "outputs": [],
   "source": [
    "# Load the required data\n",
    "dataset = np.load(\"../data/test/features.npy\", allow_pickle=True)\n",
    "ground_truth = np.load(\"../data/test/ground_truth_labels.npy\", allow_pickle=True)\n",
    "predictions = np.load(\"../data/test/algorithm_predictions.npy\", allow_pickle=True)\n",
    "ari_scores = np.load(\"../data/test/ari_scores.npy\", allow_pickle=True)\n",
    "\n",
    "score_names = [\"sil_scores\", \"ch_scores\", \"db_scores\", \"dunn_scores\"]\n",
    "loaded_scores = {\n",
    "    name.replace(\"_scores\", \"\"): np.load(os.path.join(\"../data/test/\", f\"{name}.npy\"), allow_pickle=True)\n",
    "    for name in score_names\n",
    "}\n",
    "ari_binary = [(np.array(ari) > 0.8).astype(int) for ari in ari_scores]\n",
    "y_true = np.concatenate(ari_binary)"
   ]
  },
  {
   "cell_type": "markdown",
   "id": "007b483e",
   "metadata": {},
   "source": [
    "### Sensetivity Analysis"
   ]
  },
  {
   "cell_type": "code",
   "execution_count": 4,
   "id": "ffaba203",
   "metadata": {},
   "outputs": [],
   "source": [
    "# Thresholds\n",
    "thresholds = {\n",
    "    'sil': [0.35, 0.4, 0.45, 0.5, 0.55],\n",
    "    'ch': [120, 140, 160, 180, 200],\n",
    "    'db': [0.4, 0.5, 0.6, 0.7, 0.8],\n",
    "    'dunn': [0.4, 0.5, 0.6, 0.7, 0.8]\n",
    "}\n",
    "\n",
    "higher_is_better = {\n",
    "    'sil': True,\n",
    "    'ch': True,\n",
    "    'db': False,\n",
    "    'dunn': True\n",
    "}\n",
    "\n",
    "# Evaluation results\n",
    "metric_eval_results = {}\n",
    "\n",
    "for metric_name, scores in loaded_scores.items():\n",
    "    result = []\n",
    "    for th in thresholds[metric_name]:\n",
    "        preds_bin = []\n",
    "        for score in scores:\n",
    "            if higher_is_better[metric_name]:\n",
    "                preds_bin.append((np.array(score) >= th).astype(int))\n",
    "            else:\n",
    "                preds_bin.append((np.array(score) <= th).astype(int))\n",
    "        y_pred = np.concatenate(preds_bin)\n",
    "        f1 = f1_score(y_true, y_pred, average='micro', zero_division=0)\n",
    "        hamming = hamming_loss(y_true, y_pred)\n",
    "        result.append((th, round(f1, 4), round(hamming, 4)))\n",
    "    metric_eval_results[metric_name] = result"
   ]
  },
  {
   "cell_type": "code",
   "execution_count": 5,
   "id": "bf50343c",
   "metadata": {},
   "outputs": [],
   "source": [
    "# Preserve order: Silhouette, CH, DB, Dunn\n",
    "final_f1s = []\n",
    "final_hammings = []\n",
    "best_thresholds = {}\n",
    "\n",
    "for metric_name, eval_results in metric_eval_results.items():\n",
    "    best_row = max(eval_results, key=lambda x: x[1])  # based on F1\n",
    "    best_thresholds[metric_name] = best_row[0]\n",
    "    final_f1s.append(best_row[1])\n",
    "    final_hammings.append(best_row[2])"
   ]
  },
  {
   "cell_type": "code",
   "execution_count": 6,
   "id": "099ee3fa",
   "metadata": {},
   "outputs": [
    {
     "name": "stdout",
     "output_type": "stream",
     "text": [
      "  Silhouette                  Calinski-Harabasz                   \\\n",
      "   Threshold F1-score Hamming         Threshold F1-score Hamming   \n",
      "0       0.35   0.6987  0.3013               120   0.6597  0.3403   \n",
      "1       0.40   0.7106  0.2894               140   0.6634  0.3366   \n",
      "2       0.45   0.7155  0.2845               160   0.6679  0.3321   \n",
      "3       0.50   0.7128  0.2872               180   0.6670  0.3330   \n",
      "4       0.55   0.7017  0.2983               200   0.6651  0.3349   \n",
      "\n",
      "  Davies-Bouldin                       Dunn                   \n",
      "       Threshold F1-score Hamming Threshold F1-score Hamming  \n",
      "0            0.4   0.6512  0.3488       0.4   0.6151  0.3849  \n",
      "1            0.5   0.6616  0.3384       0.5   0.6344  0.3656  \n",
      "2            0.6   0.6793  0.3207       0.6   0.6360  0.3640  \n",
      "3            0.7   0.6730  0.3270       0.7   0.6334  0.3666  \n",
      "4            0.8   0.6545  0.3455       0.8   0.6329  0.3671  \n"
     ]
    }
   ],
   "source": [
    "# Extract and pad per metric\n",
    "max_len = max(len(eval_results) for _, eval_results in metric_eval_results.items())\n",
    "\n",
    "def pad(lst, target_len):\n",
    "    return lst + [(\"\", \"\", \"\")] * (target_len - len(lst))\n",
    "\n",
    "metric_data = [pad(eval_results, max_len) for _, eval_results in metric_eval_results.items()]\n",
    "\n",
    "# Build columns\n",
    "columns = pd.MultiIndex.from_tuples([\n",
    "    (\"Silhouette\", \"Threshold\"), (\"Silhouette\", \"F1-score\"), (\"Silhouette\", \"Hamming\"),\n",
    "    (\"Calinski-Harabasz\", \"Threshold\"), (\"Calinski-Harabasz\", \"F1-score\"), (\"Calinski-Harabasz\", \"Hamming\"),\n",
    "    (\"Davies-Bouldin\", \"Threshold\"), (\"Davies-Bouldin\", \"F1-score\"), (\"Davies-Bouldin\", \"Hamming\"),\n",
    "    (\"Dunn\", \"Threshold\"), (\"Dunn\", \"F1-score\"), (\"Dunn\", \"Hamming\"),\n",
    "])\n",
    "\n",
    "# Build DataFrame rows\n",
    "data = []\n",
    "for i in range(max_len):\n",
    "    row = []\n",
    "    for metric_vals in metric_data:\n",
    "        t, f1, ham = metric_vals[i]\n",
    "        row.extend([t, f1, ham])\n",
    "    data.append(row)\n",
    "\n",
    "final_table = pd.DataFrame(data, columns=columns)\n",
    "print(final_table)"
   ]
  },
  {
   "cell_type": "markdown",
   "id": "65253bdd",
   "metadata": {},
   "source": [
    "### Proposed Model Prediction"
   ]
  },
  {
   "cell_type": "code",
   "execution_count": null,
   "id": "fba4d2a4",
   "metadata": {},
   "outputs": [
    {
     "name": "stderr",
     "output_type": "stream",
     "text": [
      "100%|██████████| 3400/3400 [00:00<00:00, 6673.73it/s]\n"
     ]
    }
   ],
   "source": [
    "# Load Models:\n",
    "cnnresatt_model = CNNResNetAttention()\n",
    "cnnresatt_model.load_state_dict(torch.load('../artifacts/models/cnnresatt.pth', map_location=device))\n",
    "cnnresatt_model.to(device)\n",
    "cnnresatt_model.eval()\n",
    "\n",
    "# Batch Data\n",
    "all_X_padded = []\n",
    "all_true_ari = []\n",
    "\n",
    "padded_X = {}\n",
    "\n",
    "for i in tqdm(range(len(dataset))):\n",
    "    data_i = dataset[i]\n",
    "    ari_i = ari_binary[i]\n",
    "    padded = pad_symmetric(data_i)\n",
    "    X_pad = padded[np.newaxis, np.newaxis, :, :]  # → (1, 1, 2000, 50)\n",
    "    all_X_padded.append(X_pad)\n",
    "    all_true_ari.append(ari_i[np.newaxis, :])  # → (1, 10)\n",
    "\n",
    "\n",
    "# Convert to tensors and batch\n",
    "X_tensor = torch.tensor(np.vstack(all_X_padded)).float()\n",
    "y_tensor = torch.tensor(np.vstack(all_true_ari)).float()\n",
    "val_dataset = TensorDataset(X_tensor, y_tensor)\n",
    "val_loader = DataLoader(val_dataset, batch_size=32, shuffle=False)\n",
    "\n",
    "# Run model on all data\n",
    "y_pred_model = []\n",
    "preds = []\n",
    "with torch.no_grad():\n",
    "    for x_batch, _ in val_loader:\n",
    "        x_batch = x_batch.to(device)\n",
    "        pred = cnnresatt_model(x_batch)  # shape (batch, 10)\n",
    "        preds.append(pred)  # Store raw predictions for further analysis\n",
    "        binary_preds = (torch.sigmoid(pred) > 0.5).cpu().numpy() \n",
    "        y_pred_model.append(binary_preds)\n",
    "\n",
    "# Final model predictions \n",
    "y_pred_model = np.vstack(y_pred_model)\n",
    "preds = np.vstack(preds)"
   ]
  },
  {
   "cell_type": "code",
   "execution_count": 8,
   "id": "05377afc",
   "metadata": {},
   "outputs": [],
   "source": [
    "y_true = y_true.reshape(-1, 10)  # Ensure y_true is in the correct shape\n",
    "\n",
    "f1_model = f1_score(y_true, y_pred_model, average='micro')\n",
    "hamming_model = hamming_loss(y_true, y_pred_model)\n",
    "\n",
    "# Add to results\n",
    "final_f1s.append(f1_model)\n",
    "final_hammings.append(hamming_model)\n",
    "\n",
    "# Reorder metrics accordingly\n",
    "final_f1s = [f1_model] + final_f1s[:-1]\n",
    "final_hammings = [hamming_model] + final_hammings[:-1]"
   ]
  },
  {
   "cell_type": "markdown",
   "id": "1c22e8db",
   "metadata": {},
   "source": [
    "### Comparison of Performance on Synthetic Data"
   ]
  },
  {
   "cell_type": "code",
   "execution_count": 9,
   "id": "8cbaedbf",
   "metadata": {},
   "outputs": [
    {
     "data": {
      "image/png": "[encoded data removed]",
      "text/plain": [
       "<Figure size 1000x600 with 1 Axes>"
      ]
     },
     "metadata": {},
     "output_type": "display_data"
    }
   ],
   "source": [
    "# Data\n",
    "labels = ['Proposed Model', 'Silhouette', 'CH', 'DB', 'Dunn']\n",
    "x = np.arange(len(labels))\n",
    "bar_width = 0.35\n",
    "\n",
    "# Colors\n",
    "f1_colors = [\"#1C3F94\"] + [\"#6C91BF\"] * 4\n",
    "hamming_colors = [\"#B65C00\"] + [\"#D4945A\"] * 4\n",
    "\n",
    "# ✅ Global style for Type 1 font and CMYK-safe output\n",
    "plt.rcParams.update({\n",
    "    \"text.usetex\": False,  # no LaTeX required\n",
    "    \"pdf.fonttype\": 42,\n",
    "    \"font.family\": \"serif\",\n",
    "    \"font.serif\": [\"Times New Roman\", \"Times\"],\n",
    "    'font.size': 20,             # base font size\n",
    "    'axes.labelsize': 20,        # axis label\n",
    "    'xtick.labelsize': 12,       # x-axis ticks\n",
    "    'ytick.labelsize': 16,       # y-axis ticks\n",
    "    'legend.fontsize': 16,       # legend\n",
    "})\n",
    "\n",
    "\n",
    "# Plot\n",
    "fig, ax = plt.subplots(figsize=(10, 6))\n",
    "\n",
    "bars1 = ax.bar(x - bar_width/2, final_f1s, bar_width, color=f1_colors, label='F1-score',\n",
    "               edgecolor='black', linewidth=0.6)\n",
    "bars2 = ax.bar(x + bar_width/2, final_hammings, bar_width, color=hamming_colors, label='Hamming distance',\n",
    "               edgecolor='black', linewidth=0.6)\n",
    "\n",
    "def annotate_bars(bars, fmt=\"{:.3f}\"):\n",
    "    for bar in bars:\n",
    "        height = bar.get_height()\n",
    "        ax.annotate(fmt.format(height),\n",
    "                    xy=(bar.get_x() + bar.get_width()/2, height),\n",
    "                    xytext=(2, 7), textcoords=\"offset points\",\n",
    "                    ha='center', va='bottom', fontsize=14)\n",
    "\n",
    "annotate_bars(bars1)\n",
    "annotate_bars(bars2)\n",
    "\n",
    "# Labels\n",
    "ax.set_ylabel(\"F1/Hamming distance\", fontsize=18)\n",
    "ax.set_xticks(x)\n",
    "ax.set_xticklabels(labels, fontsize=16)\n",
    "ax.set_ylim(0, max(max(final_f1s), max(final_hammings)) + 0.05)\n",
    "\n",
    "# Clean style\n",
    "ax.spines['top'].set_visible(False)\n",
    "ax.spines['right'].set_visible(False)\n",
    "ax.spines['left'].set_linewidth(1)\n",
    "ax.spines['bottom'].set_linewidth(1)\n",
    "\n",
    "ax.legend(loc='upper center', bbox_to_anchor=(0.5, -0.13), ncol=2, frameon=False)\n",
    "\n",
    "plt.tight_layout()\n",
    "plt.savefig(\"../results/synthetic_performance.pdf\", dpi=600, bbox_inches='tight', backend='cairo')\n",
    "plt.show()"
   ]
  },
  {
   "cell_type": "markdown",
   "id": "15611510",
   "metadata": {},
   "source": [
    "### K-fold on Synthetic Test Data (refer to Table 1 in the paper)"
   ]
  },
  {
   "cell_type": "code",
   "execution_count": null,
   "id": "15e01dd7",
   "metadata": {},
   "outputs": [
    {
     "name": "stdout",
     "output_type": "stream",
     "text": [
      "\n",
      "===== Cross-Validation Summary (Mean ± Std) per Metric =====\n",
      "    Metric |      F1-score |       Hamming | ARI (from best index)\n",
      "--------------------------------------------------------------------------------\n",
      "     MODEL | 0.757 ± 0.017 | 0.183 ± 0.011 | 0.878 ± 0.007\n",
      "       SIL | 0.720 ± 0.009 | 0.280 ± 0.009 | 0.365 ± 0.020\n",
      "        CH | 0.669 ± 0.013 | 0.331 ± 0.013 | 0.381 ± 0.017\n",
      "        DB | 0.681 ± 0.014 | 0.319 ± 0.014 | 0.344 ± 0.016\n",
      "      DUNN | 0.637 ± 0.011 | 0.363 ± 0.011 | 0.280 ± 0.017\n"
     ]
    }
   ],
   "source": [
    "# === Metrics to evaluate ===\n",
    "metrics_all = [\"model\"] + list(loaded_scores.keys())\n",
    "f1s_dict = {m: [] for m in metrics_all}\n",
    "hamming_dict = {m: [] for m in metrics_all}\n",
    "ari_from_best_idx = {m: [] for m in metrics_all}\n",
    "\n",
    "# === 10-fold Cross-validation ===\n",
    "kf = KFold(n_splits=10, shuffle=True, random_state=0)\n",
    "\n",
    "for fold_idx, (_, test_idx) in enumerate(kf.split(dataset)):\n",
    "\n",
    "    # Ground truth for F1/Hamming (flattened)\n",
    "    y_true_bin = np.concatenate([ari_binary[i] for i in test_idx])\n",
    "\n",
    "    for metric_name in loaded_scores.keys():\n",
    "        scores = loaded_scores[metric_name]\n",
    "\n",
    "        # === Step 1: Binary classification via thresholding ===\n",
    "        best_f1 = -1\n",
    "        best_preds_bin = None\n",
    "\n",
    "        for th in thresholds[metric_name]:\n",
    "            preds_bin = []\n",
    "            for i in test_idx:\n",
    "                score_vec = np.array(scores[i])\n",
    "                pred = (score_vec >= th) if higher_is_better[metric_name] else (score_vec <= th)\n",
    "                preds_bin.append(pred.astype(int))\n",
    "            y_pred = np.concatenate(preds_bin)\n",
    "            f1 = f1_score(y_true_bin, y_pred, average='micro', zero_division=0)\n",
    "\n",
    "            if f1 > best_f1:\n",
    "                best_f1 = f1\n",
    "                best_preds_bin = y_pred\n",
    "\n",
    "        f1s_dict[metric_name].append(best_f1)\n",
    "        hamming_dict[metric_name].append(hamming_loss(y_true_bin, best_preds_bin))\n",
    "\n",
    "        # === Step 2: ARI from best algorithm index ===\n",
    "        best_ari_values = []\n",
    "        for i in test_idx:\n",
    "            score_vec = np.array(scores[i])\n",
    "            best_idx = np.argmax(score_vec) if higher_is_better[metric_name] else np.argmin(score_vec)\n",
    "            best_ari = ari_scores[i][best_idx]\n",
    "            best_ari_values.append(best_ari)\n",
    "        ari_from_best_idx[metric_name].append(np.mean(best_ari_values))\n",
    "\n",
    "    # === Model Evaluation ===\n",
    "\n",
    "    # Get predicted probabilities (raw model output)\n",
    "    raw_preds_fold = preds[test_idx]  # shape: (N, 10)\n",
    "\n",
    "    # Binary prediction: set only the argmax index to 1\n",
    "    bin_preds_fold = y_pred_model[test_idx]\n",
    "\n",
    "    # Ground truth for model evaluation\n",
    "    y_true_model = np.vstack([ari_binary[i] for i in test_idx])\n",
    "\n",
    "    # F1 and Hamming\n",
    "    f1_model = f1_score(y_true_model, bin_preds_fold, average='micro')\n",
    "    hamming_model = hamming_loss(y_true_model, bin_preds_fold)\n",
    "    f1s_dict[\"model\"].append(f1_model)\n",
    "    hamming_dict[\"model\"].append(hamming_model)\n",
    "\n",
    "    # ARI from best predicted algorithm\n",
    "    best_ari_model = []\n",
    "    for idx, pred_row in zip(test_idx, raw_preds_fold):\n",
    "        best_idx = np.argmax(pred_row)\n",
    "        best_ari_model.append(ari_scores[idx][best_idx])\n",
    "    ari_from_best_idx[\"model\"].append(np.mean(best_ari_model))\n",
    "\n",
    "# === Final Report ===\n",
    "print(\"\\n===== Cross-Validation Summary (Mean ± Std) per Metric =====\")\n",
    "print(f\"{'Metric':>10} | {'F1-score':>13} | {'Hamming':>13} | {'ARI (from best index)':>13}\")\n",
    "print(\"-\" * 80)\n",
    "\n",
    "for metric in metrics_all:\n",
    "    mean_f1 = np.mean(f1s_dict[metric])\n",
    "    std_f1 = np.std(f1s_dict[metric])\n",
    "\n",
    "    mean_ham = np.mean(hamming_dict[metric])\n",
    "    std_ham = np.std(hamming_dict[metric])\n",
    "\n",
    "    mean_ari = np.mean(ari_from_best_idx[metric])\n",
    "    std_ari = np.std(ari_from_best_idx[metric])\n",
    "\n",
    "    print(f\"{metric.upper():>10} | {mean_f1:.3f} ± {std_f1:.3f} | {mean_ham:.3f} ± {std_ham:.3f} | {mean_ari:.3f} ± {std_ari:.3f}\")"
   ]
  }
 ],
 "metadata": {
  "kernelspec": {
   "display_name": "venv",
   "language": "python",
   "name": "python3"
  },
  "language_info": {
   "codemirror_mode": {
    "name": "ipython",
    "version": 3
   },
   "file_extension": ".py",
   "mimetype": "text/x-python",
   "name": "python",
   "nbconvert_exporter": "python",
   "pygments_lexer": "ipython3",
   "version": "3.12.5"
  }
 },
 "nbformat": 4,
 "nbformat_minor": 5
}
