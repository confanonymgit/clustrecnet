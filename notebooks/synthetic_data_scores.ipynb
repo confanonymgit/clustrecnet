{
 "cells": [
  {
   "cell_type": "code",
   "execution_count": 2,
   "id": "bd309847",
   "metadata": {},
   "outputs": [],
   "source": [
    "import sys\n",
    "import os\n",
    "\n",
    "sys.path.append(os.path.abspath(os.path.join(os.getcwd(), '..')))"
   ]
  },
  {
   "cell_type": "code",
   "execution_count": 3,
   "id": "ce3566a1",
   "metadata": {},
   "outputs": [
    {
     "name": "stderr",
     "output_type": "stream",
     "text": [
      "100%|██████████| 3400/3400 [20:00<00:00,  2.83it/s] \n"
     ]
    }
   ],
   "source": [
    "from sklearn.metrics import davies_bouldin_score, calinski_harabasz_score, silhouette_score\n",
    "from src.clust_utils import dunn_score\n",
    "import numpy as np\n",
    "from tqdm import tqdm\n",
    "\n",
    "\n",
    "dataset = np.load(\"../data/test/features.npy\", allow_pickle=True)\n",
    "predictions = np.load(\"../data/test/algorithm_predictions.npy\", allow_pickle=True)\n",
    "\n",
    "\n",
    "# Prepare containers\n",
    "db_scores = []\n",
    "ch_scores = []\n",
    "sil_scores = []\n",
    "dunn_scores = []\n",
    "# Iterate through all 3400 samples\n",
    "for i in tqdm(range(len(dataset))):\n",
    "    data_i = dataset[i]\n",
    "    preds_i = predictions[i]\n",
    "    \n",
    "    db_i, ch_i, sil_i, dunn_i = [], [], [], []\n",
    "\n",
    "    for algo_pred in preds_i:\n",
    "        try:\n",
    "            db_i.append(davies_bouldin_score(data_i, algo_pred))\n",
    "        except:\n",
    "            db_i.append(np.nan)\n",
    "        try:\n",
    "            ch_i.append(calinski_harabasz_score(data_i, algo_pred))\n",
    "        except:\n",
    "            ch_i.append(np.nan)\n",
    "        try:\n",
    "            sil_i.append(silhouette_score(data_i, algo_pred))\n",
    "        except:\n",
    "            sil_i.append(np.nan)\n",
    "        try:\n",
    "            dunn_i.append(dunn_score(data_i, algo_pred))\n",
    "        except:\n",
    "            dunn_i.append(np.nan)\n",
    "\n",
    "    db_scores.append(np.array(db_i))\n",
    "    ch_scores.append(np.array(ch_i))\n",
    "    sil_scores.append(np.array(sil_i))\n",
    "    dunn_scores.append(np.array(dunn_i))"
   ]
  },
  {
   "cell_type": "code",
   "execution_count": 5,
   "id": "9e94d6b8",
   "metadata": {},
   "outputs": [],
   "source": [
    "save_dir = \"../data/test/\"\n",
    "score_arrays = {\n",
    "    \"db_scores\": db_scores,\n",
    "    \"ch_scores\": ch_scores,\n",
    "    \"sil_scores\": sil_scores,\n",
    "    \"dunn_scores\": dunn_scores\n",
    "}\n",
    "\n",
    "# save as .npy\n",
    "for name, array in score_arrays.items():\n",
    "    np.save(os.path.join(save_dir, f\"{name}.npy\"), np.array(array))"
   ]
  }
 ],
 "metadata": {
  "kernelspec": {
   "display_name": ".venv",
   "language": "python",
   "name": "python3"
  },
  "language_info": {
   "codemirror_mode": {
    "name": "ipython",
    "version": 3
   },
   "file_extension": ".py",
   "mimetype": "text/x-python",
   "name": "python",
   "nbconvert_exporter": "python",
   "pygments_lexer": "ipython3",
   "version": "3.10.11"
  }
 },
 "nbformat": 4,
 "nbformat_minor": 5
}
